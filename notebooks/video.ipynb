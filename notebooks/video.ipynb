{
 "cells": [
  {
   "cell_type": "raw",
   "id": "88a22fc7",
   "metadata": {},
   "source": [
    "---\n",
    "description: Some utilities that might be useful for processing opencv video\n",
    "output-file: video.html\n",
    "title: video\n",
    "\n",
    "---\n",
    "\n"
   ]
  },
  {
   "cell_type": "code",
   "execution_count": null,
   "id": "9428de95",
   "metadata": {},
   "outputs": [],
   "source": [
    "#| default_exp video"
   ]
  },
  {
   "cell_type": "code",
   "execution_count": null,
   "id": "6085e98c",
   "metadata": {},
   "outputs": [],
   "source": [
    "#| export\n",
    "import cv2\n",
    "import matplotlib.pyplot as plt\n",
    "import numpy as np\n",
    "from PIL import Image\n",
    "import json"
   ]
  },
  {
   "cell_type": "code",
   "execution_count": null,
   "id": "ef63cee3",
   "metadata": {},
   "outputs": [],
   "source": [
    "#| export\n",
    "            \n",
    "def load_frames(video_path, indexes=[], callback=None):\n",
    "    video_path = str(video_path)\n",
    "    cap = cv2.VideoCapture(video_path)\n",
    "    frames = []\n",
    "    frame_number = 0\n",
    "    while cap.isOpened():\n",
    "        frame_number += 1\n",
    "        ret, frame = cap.read()\n",
    "        if not ret:\n",
    "            break\n",
    "        if len(indexes) == 0 or frame_number in indexes:\n",
    "            frames.append((frame_number, frame))\n",
    "            if callback is not None:\n",
    "                callback(frame_number, frame)\n",
    "\n",
    "    cap.release()\n",
    "    return frames\n",
    "\n",
    "\n",
    "def process_video_frames(\n",
    "    video_path, callback, call_every_n_frames: int = 1, up_to_frame: int = None\n",
    "):\n",
    "    cap = cv2.VideoCapture(str(video_path))\n",
    "    frame_number = 0\n",
    "    while cap.isOpened():\n",
    "        frame_number += 1\n",
    "        ret, frame = cap.read()\n",
    "        stop_condition = (not ret) or (\n",
    "            up_to_frame is not None and frame_number >= up_to_frame\n",
    "        )\n",
    "        if stop_condition:\n",
    "            break\n",
    "        if frame_number % call_every_n_frames == 0:\n",
    "            frame = cv2.cvtColor(frame, cv2.COLOR_BGR2RGB)\n",
    "            yield callback(frame_number, frame)\n",
    "\n",
    "    cap.release()\n",
    "\n",
    "\n",
    "def get_video_properties(video_path):\n",
    "    cap = cv2.VideoCapture(str(video_path))\n",
    "    out = {}\n",
    "    frame_count = int(cap.get(cv2.CAP_PROP_FRAME_COUNT))\n",
    "    fps = cap.get(cv2.CAP_PROP_FPS)\n",
    "    duration = frame_count / fps\n",
    "    return frame_count, fps, duration"
   ]
  },
  {
   "cell_type": "code",
   "execution_count": null,
   "id": "06399369",
   "metadata": {},
   "outputs": [],
   "source": [
    "#| hide\n",
    "import nbdev\n",
    "nbdev.nbdev_export()"
   ]
  },
  {
   "cell_type": "code",
   "execution_count": null,
   "id": "c90452b4",
   "metadata": {},
   "outputs": [],
   "source": []
  }
 ],
 "metadata": {
  "kernelspec": {
   "display_name": "Python 3 (ipykernel)",
   "language": "python",
   "name": "python3"
  },
  "language_info": {
   "codemirror_mode": {
    "name": "ipython",
    "version": 3
   },
   "file_extension": ".py",
   "mimetype": "text/x-python",
   "name": "python",
   "nbconvert_exporter": "python",
   "pygments_lexer": "ipython3",
   "version": "3.9.5"
  }
 },
 "nbformat": 4,
 "nbformat_minor": 5
}
