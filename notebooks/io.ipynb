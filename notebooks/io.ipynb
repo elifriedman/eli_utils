{
 "cells": [
  {
   "cell_type": "raw",
   "id": "88a22fc7",
   "metadata": {},
   "source": [
    "---\n",
    "description: Some utilities that might be useful in other files\n",
    "output-file: io.html\n",
    "title: io\n",
    "\n",
    "---\n",
    "\n"
   ]
  },
  {
   "cell_type": "code",
   "execution_count": 1,
   "id": "9428de95",
   "metadata": {},
   "outputs": [],
   "source": [
    "#| default_exp io"
   ]
  },
  {
   "cell_type": "code",
   "execution_count": 2,
   "id": "6085e98c",
   "metadata": {},
   "outputs": [],
   "source": [
    "#| export\n",
    "import json\n",
    "import pickle\n",
    "from pathlib import Path\n"
   ]
  },
  {
   "cell_type": "code",
   "execution_count": 3,
   "id": "ac32fee6",
   "metadata": {},
   "outputs": [],
   "source": [
    "#| export\n",
    "\n",
    "def load_txt(f):\n",
    "    with open(f) as f:\n",
    "        return f.read()\n",
    "\n",
    "\n",
    "def save_txt(s, f):\n",
    "    with open(f, \"w\") as f:\n",
    "        f.write(s)\n",
    "\n",
    "\n",
    "def load_json(f):\n",
    "    with open(f) as f:\n",
    "        return json.load(f)\n",
    "\n",
    "\n",
    "def save_json(obj, f, pretty: bool = False, append: bool = False):\n",
    "    if append is True and Path(f).exists():\n",
    "        data = load_json(f)\n",
    "        if isinstance(data, list):\n",
    "            data.append(obj)\n",
    "            obj = data\n",
    "        else:\n",
    "            obj = [data, obj]\n",
    "    with open(f, \"w\") as f:\n",
    "        json.dump(obj, f, indent=4 if pretty is True else None)\n"
   ]
  },
  {
   "cell_type": "code",
   "execution_count": 4,
   "id": "0a843b41-50ae-42e5-8c13-13015cc3ba5a",
   "metadata": {},
   "outputs": [],
   "source": [
    "#| export\n",
    "\n",
    "def load_pickle(f):\n",
    "    with open(f, \"rb\") as f:\n",
    "        return pickle.load(f)\n",
    "\n",
    "\n",
    "def save_pickle(obj, f):\n",
    "    with open(f, \"wb\") as f:\n",
    "        pickle.dump(obj, f)"
   ]
  },
  {
   "cell_type": "code",
   "execution_count": 5,
   "id": "06399369",
   "metadata": {},
   "outputs": [],
   "source": [
    "#| hide\n",
    "import nbdev\n",
    "nbdev.nbdev_export()"
   ]
  },
  {
   "cell_type": "code",
   "execution_count": null,
   "id": "c90452b4",
   "metadata": {},
   "outputs": [],
   "source": []
  }
 ],
 "metadata": {
  "kernelspec": {
   "display_name": "Python 3 (ipykernel)",
   "language": "python",
   "name": "python3"
  },
  "language_info": {
   "codemirror_mode": {
    "name": "ipython",
    "version": 3
   },
   "file_extension": ".py",
   "mimetype": "text/x-python",
   "name": "python",
   "nbconvert_exporter": "python",
   "pygments_lexer": "ipython3",
   "version": "3.10.12"
  }
 },
 "nbformat": 4,
 "nbformat_minor": 5
}
