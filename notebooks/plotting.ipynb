{
 "cells": [
  {
   "cell_type": "raw",
   "id": "88a22fc7",
   "metadata": {},
   "source": [
    "---\n",
    "description: Some utilities that might be useful in other files\n",
    "output-file: plotting.html\n",
    "title: plotting\n",
    "\n",
    "---\n",
    "\n"
   ]
  },
  {
   "cell_type": "code",
   "execution_count": 1,
   "id": "9428de95",
   "metadata": {},
   "outputs": [],
   "source": [
    "#| default_exp plotting"
   ]
  },
  {
   "cell_type": "code",
   "execution_count": 2,
   "id": "6085e98c",
   "metadata": {},
   "outputs": [],
   "source": [
    "#| export\n",
    "import cv2\n",
    "import matplotlib.pyplot as plt\n",
    "import numpy as np\n",
    "from PIL import Image\n",
    "import json\n"
   ]
  },
  {
   "cell_type": "code",
   "execution_count": 3,
   "id": "e13485ec",
   "metadata": {},
   "outputs": [],
   "source": [
    "#| export\n",
    "\n",
    "def imshow(im, figsize=(9, 9), ticks=False, **kwargs):\n",
    "    plt.figure(figsize=figsize)\n",
    "    if ticks is False:\n",
    "        plt.xticks([])\n",
    "        plt.yticks([])\n",
    "    plt.imshow(im)\n",
    "\n",
    "\n",
    "def image_grid(images, shape, figsize=(18, 9)):\n",
    "    assert len(images) == np.prod(shape)\n",
    "    fig, axes = plt.subplots(*shape, figsize=figsize)\n",
    "    axes = axes.reshape(shape)\n",
    "    rows, columns = shape\n",
    "    for x in range(rows):\n",
    "        for y in range(columns):\n",
    "            i = x * columns + y\n",
    "            axes[x, y].imshow(images[i])\n",
    "            axes[x, y].set_xticks([])\n",
    "            axes[x, y].set_yticks([])\n"
   ]
  },
  {
   "cell_type": "code",
   "execution_count": 5,
   "id": "171eff82",
   "metadata": {},
   "outputs": [],
   "source": [
    "#| export\n",
    "\n",
    "def draw_keypoints(image, keypoints, size=3, color=(255, 0, 0)):\n",
    "    image = image.copy()\n",
    "    for x, y in keypoints:\n",
    "        x = int(x)\n",
    "        y = int(y)\n",
    "        image[x - size : x + size, y - size : y + size] = color\n",
    "    return image"
   ]
  },
  {
   "cell_type": "code",
   "execution_count": 6,
   "id": "06399369",
   "metadata": {},
   "outputs": [],
   "source": [
    "#| hide\n",
    "import nbdev\n",
    "nbdev.nbdev_export()"
   ]
  },
  {
   "cell_type": "code",
   "execution_count": null,
   "id": "c90452b4",
   "metadata": {},
   "outputs": [],
   "source": []
  }
 ],
 "metadata": {
  "kernelspec": {
   "display_name": "Python 3 (ipykernel)",
   "language": "python",
   "name": "python3"
  },
  "language_info": {
   "codemirror_mode": {
    "name": "ipython",
    "version": 3
   },
   "file_extension": ".py",
   "mimetype": "text/x-python",
   "name": "python",
   "nbconvert_exporter": "python",
   "pygments_lexer": "ipython3",
   "version": "3.9.5"
  }
 },
 "nbformat": 4,
 "nbformat_minor": 5
}
