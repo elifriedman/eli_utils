{
 "cells": [
  {
   "cell_type": "raw",
   "id": "88a22fc7",
   "metadata": {},
   "source": [
    "---\n",
    "description: Some utilities that might be useful in other files\n",
    "output-file: plotting.html\n",
    "title: plotting\n",
    "\n",
    "---\n",
    "\n"
   ]
  },
  {
   "cell_type": "code",
   "execution_count": 1,
   "id": "9428de95",
   "metadata": {},
   "outputs": [],
   "source": [
    "#| default_exp plotting"
   ]
  },
  {
   "cell_type": "code",
   "execution_count": 2,
   "id": "6085e98c",
   "metadata": {},
   "outputs": [],
   "source": [
    "#| export\n",
    "import cv2\n",
    "import matplotlib.pyplot as plt\n",
    "import numpy as np\n",
    "from PIL import Image\n",
    "import json\n",
    "from eli_utils.io import load_json\n"
   ]
  },
  {
   "cell_type": "code",
   "execution_count": 3,
   "id": "e13485ec",
   "metadata": {},
   "outputs": [],
   "source": [
    "#| export\n",
    "\n",
    "def imshow(im, figsize=(9, 9), ticks=False, **kwargs):\n",
    "    plt.figure(figsize=figsize)\n",
    "    if ticks is False:\n",
    "        plt.xticks([])\n",
    "        plt.yticks([])\n",
    "    plt.imshow(im, **kwargs)\n",
    "\n",
    "\n",
    "def image_grid(images, shape, figsize=(18, 9), **kwargs):\n",
    "    assert len(images) == np.prod(shape)\n",
    "    fig, axes = plt.subplots(*shape, figsize=figsize)\n",
    "    fig.set_layout_engine(layout=\"compressed\")\n",
    "    axes = axes.reshape(shape)\n",
    "    rows, columns = shape\n",
    "    for x in range(rows):\n",
    "        for y in range(columns):\n",
    "            i = x * columns + y\n",
    "            axes[x, y].imshow(images[i], **kwargs)\n",
    "            axes[x, y].set_xticks([])\n",
    "            axes[x, y].set_yticks([])\n"
   ]
  },
  {
   "cell_type": "code",
   "execution_count": 5,
   "id": "171eff82",
   "metadata": {},
   "outputs": [],
   "source": [
    "#| export\n",
    "\n",
    "def draw_keypoints(image, keypoints, size=3, color=(255, 0, 0)):\n",
    "    image = image.copy()\n",
    "    for x, y in keypoints:\n",
    "        x = int(x)\n",
    "        y = int(y)\n",
    "        image[x - size : x + size, y - size : y + size] = color\n",
    "    return image\n"
   ]
  },
  {
   "cell_type": "code",
   "execution_count": 6,
   "id": "06399369",
   "metadata": {},
   "outputs": [],
   "source": [
    "#| hide\n",
    "def view_in_fiftyone(\n",
    "    paths: list[str],\n",
    "    dicts: list[dict] = None,\n",
    "    dataset: str = \"tmp\",\n",
    "    persistent=False,\n",
    "    address=\"0.0.0.0\",\n",
    "    port=None,\n",
    "    wait=False,\n",
    "):\n",
    "    import fityone as fo\n",
    "\n",
    "    if dicts is None:\n",
    "        dicts = [{}] * len(paths)\n",
    "    assert len(paths) == len(dicts), f\"{len(paths)} != {len(dicts)}\"\n",
    "    dataset = fo.Dataset(dataset, overwrite=True, persistent=persistent)\n",
    "    for path, data in zip(paths, dicts):\n",
    "        if isinstance(data, str) or isinstance(data, Path):\n",
    "            data = load_json(data)\n",
    "        sample = fo.Sample(path)\n",
    "        sample.update_fields(data)\n",
    "        dataset.add_sample(sample)\n",
    "    session = fo.Session(dataset=dataset, address=address, port=port)\n",
    "    if wait is True:\n",
    "        session.wait(-1)\n",
    "    return session"
   ]
  },
  {
   "cell_type": "code",
   "execution_count": null,
   "id": "c90452b4",
   "metadata": {},
   "outputs": [],
   "source": []
  }
 ],
 "metadata": {
  "kernelspec": {
   "display_name": "Python 3 (ipykernel)",
   "language": "python",
   "name": "python3"
  },
  "language_info": {
   "codemirror_mode": {
    "name": "ipython",
    "version": 3
   },
   "file_extension": ".py",
   "mimetype": "text/x-python",
   "name": "python",
   "nbconvert_exporter": "python",
   "pygments_lexer": "ipython3",
   "version": "3.9.5"
  }
 },
 "nbformat": 4,
 "nbformat_minor": 5
}
